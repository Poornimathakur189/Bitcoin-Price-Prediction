{
 "cells": [
  {
   "cell_type": "markdown",
   "id": "eacba834",
   "metadata": {},
   "source": [
    "# Bitcoin Price Prediction (Notebook)\n",
    "\n",
    "This notebook reproduces the steps:\n",
    "- Load data\n",
    "- EDA\n",
    "- Feature engineering\n",
    "- Modeling (LogReg, SVM, XGB)\n",
    "- Evaluation\n"
   ]
  },
  {
   "cell_type": "code",
   "execution_count": null,
   "id": "79f063fc",
   "metadata": {},
   "outputs": [],
   "source": [
    "import numpy as np\n",
    "import pandas as pd\n",
    "import matplotlib.pyplot as plt\n",
    "import seaborn as sn\n",
    "from sklearn.model_selection import train_test_split\n",
    "from sklearn.preprocessing import StandardScaler\n",
    "from sklearn.linear_model import LogisticRegression\n",
    "from sklearn.svm import SVC\n",
    "from xgboost import XGBClassifier\n",
    "from sklearn import metrics\n",
    "from sklearn.metrics import ConfusionMatrixDisplay\n",
    "\n",
    "import warnings\n",
    "warnings.filterwarnings('ignore')\n",
    "\n",
    "%matplotlib inline\n"
   ]
  },
  {
   "cell_type": "code",
   "execution_count": null,
   "id": "3c2a8509",
   "metadata": {},
   "outputs": [],
   "source": [
    "import os\n",
    "ROOT = os.path.abspath('..')\n",
    "DATA_PATH = os.path.join(ROOT, 'data', 'bitcoin.csv')\n",
    "df = pd.read_csv(DATA_PATH)\n",
    "df.head()"
   ]
  },
  {
   "cell_type": "code",
   "execution_count": null,
   "id": "6390ed5c",
   "metadata": {},
   "outputs": [],
   "source": [
    "plt.figure(figsize=(15,5))\n",
    "plt.plot(df['Close'])\n",
    "plt.title('Bitcoin Close price.')\n",
    "plt.ylabel('Price in dollars.')\n",
    "plt.show()\n",
    "\n",
    "features = ['Open','High','Low','Close']\n",
    "for col in features:\n",
    "    plt.figure(figsize=(6,3))\n",
    "    sn.distplot(df[col])\n",
    "    plt.title(f\"Distribution - {col}\")\n",
    "    plt.show()"
   ]
  },
  {
   "cell_type": "code",
   "execution_count": null,
   "id": "17e3b8d2",
   "metadata": {},
   "outputs": [],
   "source": [
    "df['Date'] = pd.to_datetime(df['Date'])\n",
    "df['year'] = df['Date'].dt.year.astype(int)\n",
    "df['month'] = df['Date'].dt.month.astype(int)\n",
    "df['day'] = df['Date'].dt.day.astype(int)\n",
    "\n",
    "df['is_quarter_end'] = np.where(df['month']%3==0,1,0)\n",
    "df['open-close']  = df['Open'] - df['Close']\n",
    "df['low-high']  = df['Low'] - df['High']\n",
    "df['target'] = np.where(df['Close'].shift(-1) > df['Close'], 1, 0)\n",
    "df = df.dropna().reset_index(drop=True)\n",
    "df.head()"
   ]
  },
  {
   "cell_type": "code",
   "execution_count": null,
   "id": "c9028e8a",
   "metadata": {},
   "outputs": [],
   "source": [
    "features = df[['open-close','low-high','is_quarter_end']]\n",
    "target = df['target']\n",
    "\n",
    "scaler = StandardScaler()\n",
    "X = scaler.fit_transform(features)\n",
    "X_train, X_valid, Y_train, Y_valid = train_test_split(X, target, test_size=0.3, random_state=42, stratify=target)\n",
    "\n",
    "models = [LogisticRegression(max_iter=1000), SVC(kernel='poly', probability=True), XGBClassifier(eval_metric='logloss', use_label_encoder=False)]\n",
    "for m in models:\n",
    "    m.fit(X_train, Y_train)\n",
    "    print(m, ':')\n",
    "    print('Training AUC:', metrics.roc_auc_score(Y_train, m.predict_proba(X_train)[:,1]))\n",
    "    print('Validation AUC:', metrics.roc_auc_score(Y_valid, m.predict_proba(X_valid)[:,1]))\n",
    "    print()\n",
    "\n",
    "ConfusionMatrixDisplay.from_estimator(models[0], X_valid, Y_valid, cmap='Blues')\n",
    "plt.show()"
   ]
  }
 ],
 "metadata": {},
 "nbformat": 4,
 "nbformat_minor": 5
}
